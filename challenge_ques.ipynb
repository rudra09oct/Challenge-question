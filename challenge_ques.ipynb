{
  "nbformat": 4,
  "nbformat_minor": 0,
  "metadata": {
    "colab": {
      "provenance": [],
      "authorship_tag": "ABX9TyMlOQyV0NFzblcHgogQSxh7",
      "include_colab_link": true
    },
    "kernelspec": {
      "name": "python3",
      "display_name": "Python 3"
    },
    "language_info": {
      "name": "python"
    }
  },
  "cells": [
    {
      "cell_type": "markdown",
      "metadata": {
        "id": "view-in-github",
        "colab_type": "text"
      },
      "source": [
        "<a href=\"https://colab.research.google.com/github/rudra09oct/Challenge-question/blob/main/challenge_ques.ipynb\" target=\"_parent\"><img src=\"https://colab.research.google.com/assets/colab-badge.svg\" alt=\"Open In Colab\"/></a>"
      ]
    },
    {
      "cell_type": "code",
      "execution_count": 2,
      "metadata": {
        "colab": {
          "base_uri": "https://localhost:8080/"
        },
        "id": "buSSWXpftU6f",
        "outputId": "533ca501-de8b-46fd-88f1-9eac98abe8fe"
      },
      "outputs": [
        {
          "output_type": "stream",
          "name": "stdout",
          "text": [
            "['Ram', '1', 'Sham', '2', 'Aman', '3']\n",
            "['1', '2', '3', 'Aman', 'Ram', 'Sham']\n"
          ]
        }
      ],
      "source": [
        "L=[\"Ram\",1,\"Sham\",2,\"Aman\",3]\n",
        "L=[str(i) for i in L]\n",
        "print(L)\n",
        "L.sort()\n",
        "print(L)"
      ]
    }
  ]
}